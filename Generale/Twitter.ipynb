{
 "cells": [
  {
   "cell_type": "code",
   "execution_count": 1,
   "metadata": {},
   "outputs": [],
   "source": [
    "#!pip install tweepy\n",
    "import tweepy\n",
    "import pandas as pd"
   ]
  },
  {
   "cell_type": "code",
   "execution_count": 2,
   "metadata": {},
   "outputs": [],
   "source": [
    "# Authentication\n",
    "consumer_key = 'BeaPnmFUSAkmbUcbg78AyWLvz'\n",
    "consumer_secret = 'sVOPpN9vS7HAfRHjtWG99ojkn0X9hP0jIpCuTn1pQLaGVGvrr0'\n",
    "access_token = '865844470079770624-bztOyHL7evKB7uFN9vsyrcf5t4yLu3t'\n",
    "access_token_secret = 'GgdnLfDhk8qOJaNBpI2KSI7J5wyDYm2J8EvlzwbaEL2WV'\n",
    "auth = tweepy.OAuthHandler(consumer_key, consumer_secret)\n",
    "auth.set_access_token(access_token, access_token_secret)\n",
    "api = tweepy.API(auth)"
   ]
  },
  {
   "cell_type": "code",
   "execution_count": 3,
   "metadata": {},
   "outputs": [],
   "source": [
    "number_of_tweets = 200\n",
    "tweets = []\n",
    "likes = []\n",
    "time = []\n",
    "\n",
    "#api.search, q=\"Dogecoin\"\n",
    "for i in tweepy.Cursor(api.user_timeline, id=\"elonmusk\", tweet_mode=\"extended\").items(number_of_tweets):\n",
    "    tweets.append(i.full_text)\n",
    "    likes.append(i.favorite_count)\n",
    "    time.append(i.created_at)"
   ]
  },
  {
   "cell_type": "code",
   "execution_count": 4,
   "metadata": {},
   "outputs": [],
   "source": [
    "df = pd.DataFrame({'tweets':tweets, 'likes':likes, 'time':time})\n",
    "df = df[~df.tweets.str.contains(\"RT\")]\n",
    "df = df.reset_index(drop=True)"
   ]
  },
  {
   "cell_type": "code",
   "execution_count": 5,
   "metadata": {},
   "outputs": [
    {
     "data": {
      "text/html": [
       "<div>\n",
       "<style scoped>\n",
       "    .dataframe tbody tr th:only-of-type {\n",
       "        vertical-align: middle;\n",
       "    }\n",
       "\n",
       "    .dataframe tbody tr th {\n",
       "        vertical-align: top;\n",
       "    }\n",
       "\n",
       "    .dataframe thead th {\n",
       "        text-align: right;\n",
       "    }\n",
       "</style>\n",
       "<table border=\"1\" class=\"dataframe\">\n",
       "  <thead>\n",
       "    <tr style=\"text-align: right;\">\n",
       "      <th></th>\n",
       "      <th>tweets</th>\n",
       "      <th>likes</th>\n",
       "      <th>time</th>\n",
       "    </tr>\n",
       "  </thead>\n",
       "  <tbody>\n",
       "    <tr>\n",
       "      <th>0</th>\n",
       "      <td>@OwenSparks_ @flcnhvy @anonyx10 Haha thanks :)</td>\n",
       "      <td>3640</td>\n",
       "      <td>2021-02-11 01:04:53</td>\n",
       "    </tr>\n",
       "    <tr>\n",
       "      <th>1</th>\n",
       "      <td>@flcnhvy @anonyx10 Indeed! Tweets definitely d...</td>\n",
       "      <td>4348</td>\n",
       "      <td>2021-02-11 01:03:25</td>\n",
       "    </tr>\n",
       "    <tr>\n",
       "      <th>2</th>\n",
       "      <td>The most entertaining outcome is the most likely</td>\n",
       "      <td>93170</td>\n",
       "      <td>2021-02-10 21:15:44</td>\n",
       "    </tr>\n",
       "    <tr>\n",
       "      <th>3</th>\n",
       "      <td>@GiveDirectly Just sent some</td>\n",
       "      <td>6292</td>\n",
       "      <td>2021-02-10 19:53:10</td>\n",
       "    </tr>\n",
       "    <tr>\n",
       "      <th>4</th>\n",
       "      <td>Just agree to do Clubhouse with @kanyewest</td>\n",
       "      <td>264290</td>\n",
       "      <td>2021-02-10 19:47:18</td>\n",
       "    </tr>\n",
       "    <tr>\n",
       "      <th>...</th>\n",
       "      <td>...</td>\n",
       "      <td>...</td>\n",
       "      <td>...</td>\n",
       "    </tr>\n",
       "    <tr>\n",
       "      <th>184</th>\n",
       "      <td>@PPathole @SpaceX Lasers</td>\n",
       "      <td>3147</td>\n",
       "      <td>2021-01-24 18:23:30</td>\n",
       "    </tr>\n",
       "    <tr>\n",
       "      <th>185</th>\n",
       "      <td>@CodeWisdom 💯</td>\n",
       "      <td>40628</td>\n",
       "      <td>2021-01-24 05:23:32</td>\n",
       "    </tr>\n",
       "    <tr>\n",
       "      <th>186</th>\n",
       "      <td>@teslascope We’re switching to a more sensible...</td>\n",
       "      <td>5015</td>\n",
       "      <td>2021-01-23 22:33:03</td>\n",
       "    </tr>\n",
       "    <tr>\n",
       "      <th>187</th>\n",
       "      <td>@NASASpaceflight Hopefully, early next week</td>\n",
       "      <td>5911</td>\n",
       "      <td>2021-01-23 15:27:54</td>\n",
       "    </tr>\n",
       "    <tr>\n",
       "      <th>188</th>\n",
       "      <td>@arstechnica @SciGuySpace Given so many other ...</td>\n",
       "      <td>14989</td>\n",
       "      <td>2021-01-23 01:48:43</td>\n",
       "    </tr>\n",
       "  </tbody>\n",
       "</table>\n",
       "<p>189 rows × 3 columns</p>\n",
       "</div>"
      ],
      "text/plain": [
       "                                                tweets   likes  \\\n",
       "0       @OwenSparks_ @flcnhvy @anonyx10 Haha thanks :)    3640   \n",
       "1    @flcnhvy @anonyx10 Indeed! Tweets definitely d...    4348   \n",
       "2     The most entertaining outcome is the most likely   93170   \n",
       "3                         @GiveDirectly Just sent some    6292   \n",
       "4           Just agree to do Clubhouse with @kanyewest  264290   \n",
       "..                                                 ...     ...   \n",
       "184                           @PPathole @SpaceX Lasers    3147   \n",
       "185                                      @CodeWisdom 💯   40628   \n",
       "186  @teslascope We’re switching to a more sensible...    5015   \n",
       "187        @NASASpaceflight Hopefully, early next week    5911   \n",
       "188  @arstechnica @SciGuySpace Given so many other ...   14989   \n",
       "\n",
       "                   time  \n",
       "0   2021-02-11 01:04:53  \n",
       "1   2021-02-11 01:03:25  \n",
       "2   2021-02-10 21:15:44  \n",
       "3   2021-02-10 19:53:10  \n",
       "4   2021-02-10 19:47:18  \n",
       "..                  ...  \n",
       "184 2021-01-24 18:23:30  \n",
       "185 2021-01-24 05:23:32  \n",
       "186 2021-01-23 22:33:03  \n",
       "187 2021-01-23 15:27:54  \n",
       "188 2021-01-23 01:48:43  \n",
       "\n",
       "[189 rows x 3 columns]"
      ]
     },
     "execution_count": 5,
     "metadata": {},
     "output_type": "execute_result"
    }
   ],
   "source": [
    "df"
   ]
  },
  {
   "cell_type": "code",
   "execution_count": 6,
   "metadata": {},
   "outputs": [
    {
     "data": {
      "text/html": [
       "<div>\n",
       "<style scoped>\n",
       "    .dataframe tbody tr th:only-of-type {\n",
       "        vertical-align: middle;\n",
       "    }\n",
       "\n",
       "    .dataframe tbody tr th {\n",
       "        vertical-align: top;\n",
       "    }\n",
       "\n",
       "    .dataframe thead th {\n",
       "        text-align: right;\n",
       "    }\n",
       "</style>\n",
       "<table border=\"1\" class=\"dataframe\">\n",
       "  <thead>\n",
       "    <tr style=\"text-align: right;\">\n",
       "      <th></th>\n",
       "      <th>tweets</th>\n",
       "      <th>likes</th>\n",
       "      <th>time</th>\n",
       "    </tr>\n",
       "  </thead>\n",
       "  <tbody>\n",
       "    <tr>\n",
       "      <th>83</th>\n",
       "      <td>ur welcome https://t.co/e2KF57KLxb</td>\n",
       "      <td>1005889</td>\n",
       "      <td>2021-02-04 07:57:30</td>\n",
       "    </tr>\n",
       "    <tr>\n",
       "      <th>80</th>\n",
       "      <td>No highs, no lows, only Doge</td>\n",
       "      <td>784509</td>\n",
       "      <td>2021-02-04 08:27:10</td>\n",
       "    </tr>\n",
       "    <tr>\n",
       "      <th>35</th>\n",
       "      <td>🎶 Who let the Doge out 🎶</td>\n",
       "      <td>783960</td>\n",
       "      <td>2021-02-07 22:25:14</td>\n",
       "    </tr>\n",
       "    <tr>\n",
       "      <th>131</th>\n",
       "      <td>u can’t sell houses u don’t own\\nu can’t sell ...</td>\n",
       "      <td>744299</td>\n",
       "      <td>2021-01-28 20:34:26</td>\n",
       "    </tr>\n",
       "    <tr>\n",
       "      <th>37</th>\n",
       "      <td>So … it’s finally come to this … https://t.co/...</td>\n",
       "      <td>689506</td>\n",
       "      <td>2021-02-07 07:41:23</td>\n",
       "    </tr>\n",
       "  </tbody>\n",
       "</table>\n",
       "</div>"
      ],
      "text/plain": [
       "                                                tweets    likes  \\\n",
       "83                  ur welcome https://t.co/e2KF57KLxb  1005889   \n",
       "80                        No highs, no lows, only Doge   784509   \n",
       "35                            🎶 Who let the Doge out 🎶   783960   \n",
       "131  u can’t sell houses u don’t own\\nu can’t sell ...   744299   \n",
       "37   So … it’s finally come to this … https://t.co/...   689506   \n",
       "\n",
       "                   time  \n",
       "83  2021-02-04 07:57:30  \n",
       "80  2021-02-04 08:27:10  \n",
       "35  2021-02-07 22:25:14  \n",
       "131 2021-01-28 20:34:26  \n",
       "37  2021-02-07 07:41:23  "
      ]
     },
     "execution_count": 6,
     "metadata": {},
     "output_type": "execute_result"
    }
   ],
   "source": [
    "mostlike = df.loc[df.likes.nlargest(5).index]\n",
    "mostlike"
   ]
  },
  {
   "cell_type": "code",
   "execution_count": 7,
   "metadata": {},
   "outputs": [
    {
     "ename": "OSError",
     "evalue": "[E050] Can't find model 'en_core_web_lg'. It doesn't seem to be a Python package or a valid path to a data directory.",
     "output_type": "error",
     "traceback": [
      "\u001b[1;31m---------------------------------------------------------------------------\u001b[0m",
      "\u001b[1;31mOSError\u001b[0m                                   Traceback (most recent call last)",
      "\u001b[1;32m<ipython-input-7-bc99e736afc6>\u001b[0m in \u001b[0;36m<module>\u001b[1;34m\u001b[0m\n\u001b[0;32m      4\u001b[0m \u001b[1;32mimport\u001b[0m \u001b[0mspacy\u001b[0m\u001b[1;33m\u001b[0m\u001b[1;33m\u001b[0m\u001b[0m\n\u001b[0;32m      5\u001b[0m \u001b[1;31m#!python -m spacy download en_core_web_lg\u001b[0m\u001b[1;33m\u001b[0m\u001b[1;33m\u001b[0m\u001b[1;33m\u001b[0m\u001b[0m\n\u001b[1;32m----> 6\u001b[1;33m \u001b[0mnlp\u001b[0m \u001b[1;33m=\u001b[0m \u001b[0mspacy\u001b[0m\u001b[1;33m.\u001b[0m\u001b[0mload\u001b[0m\u001b[1;33m(\u001b[0m\u001b[1;34m'en_core_web_lg'\u001b[0m\u001b[1;33m)\u001b[0m\u001b[1;33m\u001b[0m\u001b[1;33m\u001b[0m\u001b[0m\n\u001b[0m\u001b[0;32m      7\u001b[0m \u001b[1;32mimport\u001b[0m \u001b[0mseaborn\u001b[0m \u001b[1;32mas\u001b[0m \u001b[0msns\u001b[0m\u001b[1;33m\u001b[0m\u001b[1;33m\u001b[0m\u001b[0m\n",
      "\u001b[1;32m~\\anaconda3\\lib\\site-packages\\spacy\\__init__.py\u001b[0m in \u001b[0;36mload\u001b[1;34m(name, disable, exclude, config)\u001b[0m\n\u001b[0;32m     45\u001b[0m     \u001b[0mRETURNS\u001b[0m \u001b[1;33m(\u001b[0m\u001b[0mLanguage\u001b[0m\u001b[1;33m)\u001b[0m\u001b[1;33m:\u001b[0m \u001b[0mThe\u001b[0m \u001b[0mloaded\u001b[0m \u001b[0mnlp\u001b[0m \u001b[0mobject\u001b[0m\u001b[1;33m.\u001b[0m\u001b[1;33m\u001b[0m\u001b[1;33m\u001b[0m\u001b[0m\n\u001b[0;32m     46\u001b[0m     \"\"\"\n\u001b[1;32m---> 47\u001b[1;33m     \u001b[1;32mreturn\u001b[0m \u001b[0mutil\u001b[0m\u001b[1;33m.\u001b[0m\u001b[0mload_model\u001b[0m\u001b[1;33m(\u001b[0m\u001b[0mname\u001b[0m\u001b[1;33m,\u001b[0m \u001b[0mdisable\u001b[0m\u001b[1;33m=\u001b[0m\u001b[0mdisable\u001b[0m\u001b[1;33m,\u001b[0m \u001b[0mexclude\u001b[0m\u001b[1;33m=\u001b[0m\u001b[0mexclude\u001b[0m\u001b[1;33m,\u001b[0m \u001b[0mconfig\u001b[0m\u001b[1;33m=\u001b[0m\u001b[0mconfig\u001b[0m\u001b[1;33m)\u001b[0m\u001b[1;33m\u001b[0m\u001b[1;33m\u001b[0m\u001b[0m\n\u001b[0m\u001b[0;32m     48\u001b[0m \u001b[1;33m\u001b[0m\u001b[0m\n\u001b[0;32m     49\u001b[0m \u001b[1;33m\u001b[0m\u001b[0m\n",
      "\u001b[1;32m~\\anaconda3\\lib\\site-packages\\spacy\\util.py\u001b[0m in \u001b[0;36mload_model\u001b[1;34m(name, vocab, disable, exclude, config)\u001b[0m\n\u001b[0;32m    327\u001b[0m     \u001b[1;32mif\u001b[0m \u001b[0mname\u001b[0m \u001b[1;32min\u001b[0m \u001b[0mOLD_MODEL_SHORTCUTS\u001b[0m\u001b[1;33m:\u001b[0m\u001b[1;33m\u001b[0m\u001b[1;33m\u001b[0m\u001b[0m\n\u001b[0;32m    328\u001b[0m         \u001b[1;32mraise\u001b[0m \u001b[0mIOError\u001b[0m\u001b[1;33m(\u001b[0m\u001b[0mErrors\u001b[0m\u001b[1;33m.\u001b[0m\u001b[0mE941\u001b[0m\u001b[1;33m.\u001b[0m\u001b[0mformat\u001b[0m\u001b[1;33m(\u001b[0m\u001b[0mname\u001b[0m\u001b[1;33m=\u001b[0m\u001b[0mname\u001b[0m\u001b[1;33m,\u001b[0m \u001b[0mfull\u001b[0m\u001b[1;33m=\u001b[0m\u001b[0mOLD_MODEL_SHORTCUTS\u001b[0m\u001b[1;33m[\u001b[0m\u001b[0mname\u001b[0m\u001b[1;33m]\u001b[0m\u001b[1;33m)\u001b[0m\u001b[1;33m)\u001b[0m\u001b[1;33m\u001b[0m\u001b[1;33m\u001b[0m\u001b[0m\n\u001b[1;32m--> 329\u001b[1;33m     \u001b[1;32mraise\u001b[0m \u001b[0mIOError\u001b[0m\u001b[1;33m(\u001b[0m\u001b[0mErrors\u001b[0m\u001b[1;33m.\u001b[0m\u001b[0mE050\u001b[0m\u001b[1;33m.\u001b[0m\u001b[0mformat\u001b[0m\u001b[1;33m(\u001b[0m\u001b[0mname\u001b[0m\u001b[1;33m=\u001b[0m\u001b[0mname\u001b[0m\u001b[1;33m)\u001b[0m\u001b[1;33m)\u001b[0m\u001b[1;33m\u001b[0m\u001b[1;33m\u001b[0m\u001b[0m\n\u001b[0m\u001b[0;32m    330\u001b[0m \u001b[1;33m\u001b[0m\u001b[0m\n\u001b[0;32m    331\u001b[0m \u001b[1;33m\u001b[0m\u001b[0m\n",
      "\u001b[1;31mOSError\u001b[0m: [E050] Can't find model 'en_core_web_lg'. It doesn't seem to be a Python package or a valid path to a data directory."
     ]
    }
   ],
   "source": [
    "#!pip install spacy\n",
    "import matplotlib.pyplot as plt\n",
    "import re\n",
    "import spacy\n",
    "#!python -m spacy download en_core_web_lg\n",
    "nlp = spacy.load('en_core_web_lg')\n",
    "import seaborn as sns"
   ]
  },
  {
   "cell_type": "code",
   "execution_count": null,
   "metadata": {},
   "outputs": [],
   "source": [
    "list_of_sentences = [sentence for sentence in df.tweets]\n",
    "\n",
    "lines = []\n",
    "for sentence in list_of_sentences:\n",
    "    words = sentence.split()\n",
    "    for w in words:\n",
    "        lines.append(w)"
   ]
  },
  {
   "cell_type": "code",
   "execution_count": null,
   "metadata": {},
   "outputs": [],
   "source": [
    "lines = [re.sub(r'[^A-Za-z0-9]+', '', x) for x in lines]\n",
    "\n",
    "lines2 = []\n",
    "\n",
    "for word in lines:\n",
    "    if word != '':\n",
    "        lines2.append(word)"
   ]
  },
  {
   "cell_type": "code",
   "execution_count": null,
   "metadata": {},
   "outputs": [],
   "source": [
    "\n",
    "#This is stemming the words to their root\n",
    "from nltk.stem.snowball import SnowballStemmer\n",
    "\n",
    "# The Snowball Stemmer requires that you pass a language parameter\n",
    "s_stemmer = SnowballStemmer(language='english')\n",
    "\n",
    "stem = []\n",
    "for word in lines2:\n",
    "    stem.append(s_stemmer.stem(word))\n",
    "    \n",
    "stem"
   ]
  },
  {
   "cell_type": "code",
   "execution_count": null,
   "metadata": {},
   "outputs": [],
   "source": [
    "#Removing all Stop Words\n",
    "\n",
    "stem2 = []\n",
    "\n",
    "for word in stem:\n",
    "    if word not in nlp.Defaults.stop_words:\n",
    "        stem2.append(word)\n",
    "\n",
    "stem2"
   ]
  },
  {
   "cell_type": "code",
   "execution_count": null,
   "metadata": {},
   "outputs": [],
   "source": [
    "df = pd.DataFrame(stem2)\n",
    "\n",
    "df = df[0].value_counts()\n",
    "\n",
    "#df\n",
    "#df['freq'] = df.groupby(0)[0].transform('count')\n",
    "#df['freq'] = df.groupby(0)[0].transform('count')\n",
    "#df.sort_values(by = ('freq'), ascending=False)"
   ]
  },
  {
   "cell_type": "code",
   "execution_count": null,
   "metadata": {},
   "outputs": [],
   "source": [
    "#This will give frequencies of our words\n",
    "\n",
    "from nltk.probability import FreqDist\n",
    "\n",
    "freqdoctor = FreqDist()\n",
    "\n",
    "for words in df:\n",
    "    freqdoctor[words] += 1\n",
    "\n",
    "freqdoctor"
   ]
  },
  {
   "cell_type": "code",
   "execution_count": null,
   "metadata": {},
   "outputs": [],
   "source": [
    "#This is a simple plot that shows the top 20 words being used\n",
    "#df.plot(20)\n",
    "\n",
    "df = df[:20,]\n",
    "plt.figure(figsize=(10,5))\n",
    "sns.barplot(df.values, df.index, alpha=0.8)\n",
    "plt.title('Top Words Overall')\n",
    "plt.ylabel('Word from Tweet', fontsize=12)\n",
    "plt.xlabel('Count of Words', fontsize=12)\n",
    "plt.show()"
   ]
  },
  {
   "cell_type": "code",
   "execution_count": null,
   "metadata": {},
   "outputs": [],
   "source": [
    "import spacy\n",
    "from spacy import displacy\n",
    "from collections import Counter\n",
    "import en_core_web_sm\n",
    "!python -m spacy download en_core_web_sm\n",
    "nlp = en_core_web_sm.load()"
   ]
  },
  {
   "cell_type": "code",
   "execution_count": null,
   "metadata": {},
   "outputs": [],
   "source": [
    "def show_ents(doc):\n",
    "    if doc.ents:\n",
    "        for ent in doc.ents:\n",
    "            print(ent.text + ' - ' + ent.label_ + ' - ' + str(spacy.explain(ent.label_)))"
   ]
  },
  {
   "cell_type": "code",
   "execution_count": null,
   "metadata": {},
   "outputs": [],
   "source": [
    "str1 = \" \" \n",
    "stem2 = str1.join(lines2)\n",
    "\n",
    "stem2 = nlp(stem2)\n",
    "\n",
    "label = [(X.text, X.label_) for X in stem2.ents]\n",
    "\n",
    "df6 = pd.DataFrame(label, columns = ['Word','Entity'])\n",
    "\n",
    "df7 = df6.where(df6['Entity'] == 'ORG')\n",
    "\n",
    "df7 = df7['Word'].value_counts()"
   ]
  },
  {
   "cell_type": "code",
   "execution_count": null,
   "metadata": {},
   "outputs": [],
   "source": [
    "df = df7[:20,]\n",
    "plt.figure(figsize=(10,5))\n",
    "sns.barplot(df.values, df.index, alpha=0.8)\n",
    "plt.title('Top Organizations Mentioned')\n",
    "plt.ylabel('Word from Tweet', fontsize=12)\n",
    "plt.xlabel('Count of Words', fontsize=12)\n",
    "plt.show()"
   ]
  },
  {
   "cell_type": "code",
   "execution_count": null,
   "metadata": {},
   "outputs": [],
   "source": [
    "str1 = \" \" \n",
    "stem2 = str1.join(lines2)\n",
    "\n",
    "stem2 = nlp(stem2)\n",
    "\n",
    "label = [(X.text, X.label_) for X in stem2.ents]\n",
    "\n",
    "df10 = pd.DataFrame(label, columns = ['Word','Entity'])\n",
    "\n",
    "df10 = df10.where(df10['Entity'] == 'PERSON')\n",
    "\n",
    "df11 = df10['Word'].value_counts()"
   ]
  },
  {
   "cell_type": "code",
   "execution_count": null,
   "metadata": {},
   "outputs": [],
   "source": [
    "df = df11[:20,]\n",
    "plt.figure(figsize=(10,5))\n",
    "sns.barplot(df.values, df.index, alpha=0.8)\n",
    "plt.title('Top People Mentioned')\n",
    "plt.ylabel('Word from Tweet', fontsize=12)\n",
    "plt.xlabel('Count of Words', fontsize=12)\n",
    "plt.show()"
   ]
  }
 ],
 "metadata": {
  "kernelspec": {
   "display_name": "Python 3",
   "language": "python",
   "name": "python3"
  },
  "language_info": {
   "codemirror_mode": {
    "name": "ipython",
    "version": 3
   },
   "file_extension": ".py",
   "mimetype": "text/x-python",
   "name": "python",
   "nbconvert_exporter": "python",
   "pygments_lexer": "ipython3",
   "version": "3.8.5"
  }
 },
 "nbformat": 4,
 "nbformat_minor": 4
}
